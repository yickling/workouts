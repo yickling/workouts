{
 "cells": [
  {
   "cell_type": "markdown",
   "id": "d37fc59e",
   "metadata": {},
   "source": [
    "# NumPy Workout\n",
    "\n",
    "https://www.w3resource.com/python-exercises/numpy/index.php"
   ]
  },
  {
   "cell_type": "code",
   "execution_count": null,
   "id": "116d302e",
   "metadata": {},
   "outputs": [],
   "source": [
    "import numpy as np"
   ]
  },
  {
   "cell_type": "markdown",
   "id": "2d936854",
   "metadata": {},
   "source": [
    "1. Write a Numpy program to get the Numpy version and show the Numpy build configuration"
   ]
  },
  {
   "cell_type": "code",
   "execution_count": null,
   "id": "f79f6bfa",
   "metadata": {},
   "outputs": [],
   "source": [
    "np.show_config()\n",
    "np.version.version"
   ]
  },
  {
   "cell_type": "markdown",
   "id": "dc6a7617",
   "metadata": {},
   "source": [
    "2. Write a NumPy program to get help with the add function."
   ]
  },
  {
   "cell_type": "code",
   "execution_count": null,
   "id": "fb71aa4c",
   "metadata": {},
   "outputs": [],
   "source": [
    "np.info(\"add\")"
   ]
  },
  {
   "cell_type": "markdown",
   "id": "a8453e02",
   "metadata": {},
   "source": [
    "3. Write a NumPy program to test whether none of the elements of a given array are zero."
   ]
  },
  {
   "cell_type": "code",
   "execution_count": null,
   "id": "dc321dfe",
   "metadata": {},
   "outputs": [],
   "source": [
    "a = np.array([1,2,3])\n",
    "b = np.array([0,1,0])\n",
    "# print(0 in a)\n",
    "# print(0 in b)\n",
    "print(np.all(a))\n",
    "print(np.all(b))"
   ]
  },
  {
   "cell_type": "markdown",
   "id": "320c7ba7",
   "metadata": {},
   "source": [
    "4. Write a NumPy program to test if any of the elements of a given array are non-zero."
   ]
  },
  {
   "cell_type": "code",
   "execution_count": null,
   "id": "a9a12dd8",
   "metadata": {},
   "outputs": [],
   "source": [
    "a = np.array([0,2,3])\n",
    "b = np.array([2,1,2])\n",
    "c = np.array([0,0,0])\n",
    "print(np.any(a))\n",
    "print(np.any(b))\n",
    "print(np.any(c))"
   ]
  },
  {
   "cell_type": "markdown",
   "id": "ee7b2283",
   "metadata": {},
   "source": [
    "5. Write a NumPy program to test a given array element-wise for finiteness (not infinity or not a number).\n",
    "6. Write a NumPy program to test elements-wise for positive or negative infinity.\n",
    "7. Write a NumPy program to test element-wise for NaN of a given array."
   ]
  },
  {
   "cell_type": "code",
   "execution_count": null,
   "id": "7cda4f10",
   "metadata": {},
   "outputs": [],
   "source": [
    "import math\n",
    "\n",
    "a = np.array([2,3,math.inf])\n",
    "b = np.array([math.nan, 1, 2])\n",
    "c = np.array([2,3,-math.inf])\n",
    "\n",
    "print(np.isinf(a))\n",
    "print(np.isnan(b))\n",
    "print(np.isneginf(c))\n",
    "print(np.isinf(a))"
   ]
  },
  {
   "cell_type": "markdown",
   "id": "6516c499",
   "metadata": {},
   "source": [
    "8. Write a NumPy program to test element-wise for complex numbers, real numbers in a given array. Also test if a given number is of a scalar type or not."
   ]
  },
  {
   "cell_type": "code",
   "execution_count": null,
   "id": "cf55dafc",
   "metadata": {},
   "outputs": [],
   "source": [
    "ca = np.array([56.+0.j, 27.+0.j, 68.+0.j, 49.+0.j, 120.+0.j,3 + 4.j])\n",
    "print(np.iscomplex(ca))\n",
    "print(np.isscalar(ca[5]))"
   ]
  },
  {
   "cell_type": "markdown",
   "id": "ff88aff6",
   "metadata": {},
   "source": [
    "9. Write a NumPy program to test whether two arrays are element-wise equal within a tolerance."
   ]
  },
  {
   "cell_type": "code",
   "execution_count": null,
   "id": "b9b0194a",
   "metadata": {},
   "outputs": [],
   "source": [
    "a = np.array([1,2,3])\n",
    "b = np.array([1,2,3])\n",
    "c = np.array([1,2,4])\n",
    "# print(np.isclose(a,b))\n",
    "# print(np.isclose(b,c))\n",
    "print(np.allclose(a,b))\n",
    "print(np.allclose(b,c))"
   ]
  },
  {
   "cell_type": "markdown",
   "id": "17cb6ac6",
   "metadata": {},
   "source": [
    "10. Write a NumPy program to create an element-wise comparison (greater, greater_equal, less and less_equal) of two given arrays."
   ]
  },
  {
   "cell_type": "code",
   "execution_count": null,
   "id": "84584d8e",
   "metadata": {},
   "outputs": [],
   "source": [
    "a = np.array([1,2,3])\n",
    "b = np.array([1,2,3])\n",
    "c = np.array([1,2,4])\n",
    "\n",
    "print(np.greater(a,b))\n",
    "print(np.greater_equal(a,b))\n",
    "print(np.less(a,c))\n",
    "print(np.less_equal(a,c))"
   ]
  },
  {
   "cell_type": "markdown",
   "id": "cc5acdd2",
   "metadata": {},
   "source": [
    "11. Write a NumPy program to create an element-wise comparison (equal, equal within a tolerance) of two given arrays."
   ]
  },
  {
   "cell_type": "code",
   "execution_count": null,
   "id": "845459f1",
   "metadata": {},
   "outputs": [],
   "source": [
    "a = np.array([1,2,3])\n",
    "b = np.array([1,2,3])\n",
    "c = np.array([1,2,3.1])\n",
    "\n",
    "print(np.equal(a,c))\n",
    "print(np.isclose(a,c,rtol=1e-01))\n",
    "print(np.allclose(a,c,rtol=1e-01))"
   ]
  },
  {
   "cell_type": "markdown",
   "id": "ca3984ac",
   "metadata": {},
   "source": [
    "12. Write a NumPy program to create an array with the values 1, 7, 13, 105 and determine the size of the memory occupied by the array. "
   ]
  },
  {
   "cell_type": "code",
   "execution_count": null,
   "id": "c4b58bb9",
   "metadata": {},
   "outputs": [],
   "source": [
    "a = np.array([1,7,13,105])\n",
    "\n",
    "(a.size * a.itemsize)"
   ]
  },
  {
   "cell_type": "markdown",
   "id": "81b89415",
   "metadata": {},
   "source": [
    "13. Write a NumPy program to create an array of 10 zeros, 10 ones, and 10 fives.\n",
    "14. Write a NumPy program to create an array of integers from 30 to 70.\n",
    "15. Write a NumPy program to create an array of all even integers from 30 to 70."
   ]
  },
  {
   "cell_type": "code",
   "execution_count": null,
   "id": "026c4a57",
   "metadata": {
    "scrolled": true
   },
   "outputs": [],
   "source": [
    "# 13\n",
    "a = np.zeros((1,10))\n",
    "b = np.ones((1,10))\n",
    "# c = np.array(([[5,5,5,5,5,5,5,5,5,5]]))\n",
    "c = np.ones((1,10)) * 5\n",
    "d = np.concatenate((a,b), axis=1)\n",
    "e = np.concatenate((d,c), axis=1)\n",
    "print(e)\n",
    "\n",
    "# 14\n",
    "f = np.arange(30,71)\n",
    "print(f)\n",
    "\n",
    "# 15\n",
    "g = np.arange(30,71,2)\n",
    "print(g)"
   ]
  },
  {
   "cell_type": "markdown",
   "id": "066a0fe7",
   "metadata": {},
   "source": [
    "16. Write a NumPy program to create a 3x3 identity matrix.\n",
    "17. Write a NumPy program to generate a random number between 0 and 1.\n",
    "18. Write a NumPy program to generate an array of 15 random numbers from a standard normal distribution.\n",
    "19. Write a NumPy program to create a vector with values ranging from 15 to 55 and print all values except the first and last.\n",
    "20. Write a NumPy program to create a 3X4 array and iterate over it. "
   ]
  },
  {
   "cell_type": "code",
   "execution_count": null,
   "id": "8c3f78d3",
   "metadata": {},
   "outputs": [],
   "source": [
    "# 16\n",
    "a = np.identity(3)\n",
    "print(a)\n",
    "\n",
    "# 17\n",
    "np.random.seed(42069)\n",
    "gen = np.random.default_rng()\n",
    "a = gen.random()\n",
    "print(a)\n",
    "\n",
    "# 18\n",
    "b = gen.normal(0,1,15)\n",
    "print(b)\n",
    "\n",
    "# 19\n",
    "c = np.arange(15,55,1)\n",
    "print(c[1:])\n",
    "\n",
    "# 20\n",
    "# d = np.ndarray((3,4))\n",
    "d = np.arange(10,22).reshape(3,4)\n",
    "\n",
    "# for x in np.nditer(d):\n",
    "#     print(x)\n",
    "\n",
    "for x in d:\n",
    "    for y in x:\n",
    "            print(y)"
   ]
  },
  {
   "cell_type": "markdown",
   "id": "66629f98",
   "metadata": {},
   "source": [
    "21. Write a NumPy program to create a vector of length 10 with values evenly distributed between 5 and 50. \n",
    "22. Write a NumPy program to create a vector with values from 0 to 20 and change the sign of the numbers in the range from 9 to 15. \n",
    "23. Write a NumPy program to create a vector of length 5 filled with arbitrary integers from 0 to 10.\n",
    "24. Write a NumPy program to multiply the values of two given vectors.\n",
    "25. Write a NumPy program to create a 3x4 matrix filled with values from 10 to 21."
   ]
  },
  {
   "cell_type": "code",
   "execution_count": null,
   "id": "eed8fdcd",
   "metadata": {},
   "outputs": [],
   "source": [
    "# 21\n",
    "\n",
    "# v = np.linspace(10, 50, 10)\n",
    "# print(v)\n",
    "a = np.arange(5,55,5)\n",
    "print(a)\n",
    "\n",
    "# 22\n",
    "# x = np.arange(21)\n",
    "# x[(x >= 9) & (x <= 15)] *= -1\n",
    "# print(x)\n",
    "\n",
    "a = np.arange(0,21)\n",
    "\n",
    "it = np.nditer(a, op_flags=['readwrite'], flags=['f_index'])\n",
    "for x in it:\n",
    "    if x > 9 and x <= 15:\n",
    "        a[it.index] = np.negative(x)\n",
    "print(a)\n",
    "\n",
    "# 23\n",
    "a = np.random.randint(low=0, high=11, size=(1,5))\n",
    "print(a)\n",
    "\n",
    "# 24\n",
    "a = np.array([1,3])\n",
    "b = np.array([2,4])\n",
    "c = np.multiply(a,b)\n",
    "print(c)\n",
    "\n",
    "# 25\n",
    "a = np.arange(10,22).reshape(3,4)\n",
    "print(a)"
   ]
  },
  {
   "cell_type": "markdown",
   "id": "0d5aca6a",
   "metadata": {},
   "source": [
    "26. Write a NumPy program to find the number of rows and columns in a given matrix.\n",
    "\n",
    "27. Write a NumPy program to create a 3x3 identity matrix, i.e. the diagonal elements are 1, the rest are 0.\n",
    "\n",
    "28. Write a NumPy program to create a 10x10 matrix, in which the elements on the borders will be equal to 1, and inside 0.\n",
    "\n",
    "29. Write a NumPy program to create a 5x5 zero matrix with elements on the main diagonal equal to 1, 2, 3, 4, 5.\n",
    "\n",
    "30. Write a NumPy program to create a 4x4 matrix in which 0 and 1 are staggered, with zeros on the main diagonal."
   ]
  },
  {
   "cell_type": "code",
   "execution_count": 201,
   "id": "a1fce35c",
   "metadata": {},
   "outputs": [
    {
     "name": "stdout",
     "output_type": "stream",
     "text": [
      "(4, 6)\n",
      "[[1. 0. 0.]\n",
      " [0. 1. 0.]\n",
      " [0. 0. 1.]]\n",
      "[[1. 1. 1. 1. 1. 1. 1. 1. 1. 1.]\n",
      " [1. 0. 0. 0. 0. 0. 0. 0. 0. 1.]\n",
      " [1. 0. 0. 0. 0. 0. 0. 0. 0. 1.]\n",
      " [1. 0. 0. 0. 0. 0. 0. 0. 0. 1.]\n",
      " [1. 0. 0. 0. 0. 0. 0. 0. 0. 1.]\n",
      " [1. 0. 0. 0. 0. 0. 0. 0. 0. 1.]\n",
      " [1. 0. 0. 0. 0. 0. 0. 0. 0. 1.]\n",
      " [1. 0. 0. 0. 0. 0. 0. 0. 0. 1.]\n",
      " [1. 0. 0. 0. 0. 0. 0. 0. 0. 1.]\n",
      " [1. 1. 1. 1. 1. 1. 1. 1. 1. 1.]]\n",
      "[[1 0 0 0 0]\n",
      " [0 2 0 0 0]\n",
      " [0 0 3 0 0]\n",
      " [0 0 0 4 0]\n",
      " [0 0 0 0 5]]\n",
      "[[0. 1. 0. 1.]\n",
      " [1. 0. 1. 0.]\n",
      " [0. 1. 0. 1.]\n",
      " [1. 0. 1. 0.]]\n"
     ]
    }
   ],
   "source": [
    "# 26\n",
    "a = np.arange(24).reshape(4,6)\n",
    "print(np.shape(a))\n",
    "\n",
    "# 27\n",
    "a = np.eye(3)\n",
    "print(a)\n",
    "\n",
    "# 28\n",
    "a = np.ones((10,10))\n",
    "a[1:-1,1:-1] = 0\n",
    "print(a)\n",
    "\n",
    "# 29\n",
    "a = np.diag([1,2,3,4,5])\n",
    "print(a)\n",
    "\n",
    "# 30\n",
    "a = np.zeros((4,4))\n",
    "a[::2,1::2] = 1\n",
    "a[1::2,::2] = 1\n",
    "print(a)"
   ]
  },
  {
   "cell_type": "markdown",
   "id": "203589b6",
   "metadata": {},
   "source": [
    "31. Write a NumPy program to create a 3x3x3 array filled with arbitrary values. \n",
    "\n",
    "32. Write a NumPy program to compute the sum of all elements, the sum of each column and the sum of each row in a given array. \n",
    "\n",
    "33. Write a NumPy program to compute the inner product of two given vectors. \n",
    "\n",
    "34. Write a NumPy program to add a vector to each row of a given matrix. \n",
    "\n",
    "35. Write a NumPy program to save a given array to a binary file .  "
   ]
  },
  {
   "cell_type": "code",
   "execution_count": 228,
   "id": "6948570d",
   "metadata": {},
   "outputs": [
    {
     "name": "stdout",
     "output_type": "stream",
     "text": [
      "[[[9 5 6]\n",
      "  [1 7 0]\n",
      "  [5 2 0]]\n",
      "\n",
      " [[7 7 1]\n",
      "  [5 2 6]\n",
      "  [2 5 8]]\n",
      "\n",
      " [[3 6 8]\n",
      "  [4 1 8]\n",
      "  [7 7 4]]]\n",
      "[[0 1 2]\n",
      " [3 4 5]\n",
      " [6 7 8]]\n",
      "36\n",
      "[ 9 12 15]\n",
      "[ 3 12 21]\n",
      "5\n",
      "[[0 1 2]\n",
      " [3 4 5]\n",
      " [6 7 8]]\n",
      "[2 2 2]\n",
      "[[ 2  3  4]\n",
      " [ 5  6  7]\n",
      " [ 8  9 10]]\n"
     ]
    }
   ],
   "source": [
    "# 31\n",
    "a = np.random.randint(low=0, high=10,size=(3,3,3))\n",
    "# b = np.random.random((3,3,3))\n",
    "print(a)\n",
    "# print(b)\n",
    "\n",
    "# 32\n",
    "a = np.arange(9).reshape(3,3)\n",
    "print(a)\n",
    "a_sum = np.sum(a)\n",
    "print(a_sum)\n",
    "a_colsum = np.sum(a, axis=0)\n",
    "print(a_colsum)\n",
    "a_rowsum = np.sum(a, axis=1)\n",
    "print(a_rowsum)\n",
    "\n",
    "# 33\n",
    "a = [1,2]\n",
    "b = [1,2]\n",
    "inner = np.inner(a,b)\n",
    "print(inner)\n",
    "\n",
    "# 34\n",
    "a = np.arange(9).reshape(3,3)\n",
    "b = np.array([2,2,2])\n",
    "print(a)\n",
    "print(b)\n",
    "\n",
    "for i in range(3):\n",
    "  a[i, :] = a[i, :] + b\n",
    "print(a)\n",
    "\n",
    "# 35\n",
    "from tempfile import TemporaryFile\n",
    "outfile = TemporaryFile()\n",
    "a = np.arange(4)\n",
    "np.save(outfile, a)"
   ]
  },
  {
   "cell_type": "markdown",
   "id": "dc0edf7d",
   "metadata": {},
   "source": [
    "36. Write a NumPy program to save a given array to a binary file. \n",
    "\n",
    "37. Write a NumPy program to save a given array to a text file and load it. \n",
    "\n",
    "38. Write a NumPy program to convert a given array into bytes, and load it as an array. \n",
    "\n",
    "39. Write a NumPy program to convert a given list into an array, then again convert it into a list. Check initial list and final list are equal or not. \n",
    "\n",
    "40. Write a NumPy program to compute the x and y coordinates for points on a sine curve and plot the points using matplotlib. "
   ]
  },
  {
   "cell_type": "code",
   "execution_count": 254,
   "id": "f2f1b309",
   "metadata": {},
   "outputs": [
    {
     "name": "stdout",
     "output_type": "stream",
     "text": [
      "[0 1 2 3]\n",
      "[0. 1. 2. 3.]\n",
      "[0.1 2.3 3.4 5.6]\n",
      "[0.1 2.3 3.4 5.6]\n",
      "True\n"
     ]
    },
    {
     "data": {
      "text/plain": [
       "[<matplotlib.lines.Line2D at 0x163373f70>]"
      ]
     },
     "execution_count": 254,
     "metadata": {},
     "output_type": "execute_result"
    },
    {
     "data": {
      "image/png": "[encoded data removed]",
      "text/plain": [
       "<Figure size 640x480 with 1 Axes>"
      ]
     },
     "metadata": {},
     "output_type": "display_data"
    }
   ],
   "source": [
    "# 36 is same as 35\n",
    "\n",
    "# 37\n",
    "a = np.arange(4)\n",
    "print(a)\n",
    "np.savetxt(\"an-array.txt\", a)\n",
    "b = np.loadtxt(\"an-array.txt\")\n",
    "print(b)\n",
    "\n",
    "# 38\n",
    "a = np.array([0.1,2.3,3.4,5.6])\n",
    "print(a)\n",
    "b = a.tobytes()\n",
    "c = np.frombuffer(b, dtype=float)\n",
    "print(c)\n",
    "\n",
    "# 39\n",
    "a = [1.2,3.4,5.6,7.8]\n",
    "a_arr = np.array(a)\n",
    "b = a_arr.tolist()\n",
    "print (np.array_equal(a,b))\n",
    "\n",
    "# 40\n",
    "x = np.arange(0,2 * np.pi,0.1)\n",
    "y = np.sin(x)\n",
    "import matplotlib.pyplot as plot\n",
    "plot.plot(x,y)"
   ]
  },
  {
   "cell_type": "markdown",
   "id": "2edfa046",
   "metadata": {},
   "source": [
    "41. Write a NumPy program to convert numpy dtypes to native Python types \n",
    "\n",
    "42. Write a NumPy program to add elements to a matrix. If an element in the matrix is 0, we will not add the element below this element. \n",
    "\n",
    "43. Write a NumPy program to find missing data in a given array. \n",
    "\n",
    "44. Write a NumPy program to check whether two arrays are equal (element wise) or not. \n",
    "\n",
    "45. Write a NumPy program to create a one-dimensional array of single, two and three-digit numbers. "
   ]
  },
  {
   "cell_type": "code",
   "execution_count": 310,
   "id": "78da3447",
   "metadata": {},
   "outputs": [
    {
     "name": "stdout",
     "output_type": "stream",
     "text": [
      "<class 'numpy.float32'>\n",
      "<class 'float'>\n",
      "14\n",
      "[ True False False False]\n",
      "False\n",
      "True\n",
      "False\n",
      "[[4 7 8 7 3]]\n",
      "[[36 96 65 82 42]]\n",
      "[[188 279 345 982 821]]\n"
     ]
    }
   ],
   "source": [
    "# 41\n",
    "\n",
    "# a_type = np.dtype([('f1', np.uint64), ('f2', np.int32)])\n",
    "# b = np.array([(321,-388),(777, -533)], dtype=a_type)\n",
    "# c = b.tolist()\n",
    "# print(c)\n",
    "\n",
    "x = np.float32(0)\n",
    "print(type(x))\n",
    "pyval = x.item()\n",
    "print(type(pyval))\n",
    "\n",
    "# 42\n",
    "a = np.array([0,1,2,3]).reshape(2,2)\n",
    "m = np.ndarray((3,4), buffer=np.array([1, 1, 0, 2,\n",
    "              0, 3, 0, 3, \n",
    "              1, 0, 4, 4]), dtype=int)\n",
    "\n",
    "skip_indices = []\n",
    "it = np.nditer(m, flags=[\"c_index\"])\n",
    "s = 0\n",
    "for x in it:\n",
    "    if x == 0:\n",
    "        skip_indices.append(it.index+m.shape[1])\n",
    "    else:\n",
    "        if it.index not in skip_indices:\n",
    "            s = s + x\n",
    "\n",
    "print(s)\n",
    "\n",
    "# 43\n",
    "a = np.array([float(\"NaN\"),3,2,1])\n",
    "b = np.isnan(a)\n",
    "print(b)\n",
    "\n",
    "# 44\n",
    "a = np.array([3,2,1])\n",
    "b = np.array([4,5,6])\n",
    "c = np.array([3,2,1])\n",
    "print(np.array_equal(a,b))\n",
    "print(np.array_equal(a,c))\n",
    "print(np.array_equal(b,c))\n",
    "\n",
    "# 45\n",
    "a = np.random.randint(low=0, high=9, size=(1,5))\n",
    "print(a)\n",
    "b = np.random.randint(low=10, high=99, size=(1,5))\n",
    "print(b)\n",
    "c = np.random.randint(low=100, high=999, size=(1,5))\n",
    "print(c)"
   ]
  },
  {
   "cell_type": "markdown",
   "id": "9bc6b818",
   "metadata": {},
   "source": [
    "46. Write a NumPy program to create a two-dimensional array of a specified format. \n",
    "\n",
    "47. Write a NumPy program to create a one-dimensional array of forty pseudo-randomly generated values. Select random numbers from a uniform distribution between 0 and 1.  \n",
    "\n",
    "48. Write a NumPy program to create a two-dimensional array with shape (8,5) of random numbers. Select random numbers from a normal distribution (200,7). \n",
    "\n",
    "49. Write a NumPy program to generate a uniform, non-uniform random sample from a given 1-D array with and without replacement. \n",
    "\n",
    "50. Write a NumPy program to create a 4x4 array with random values. Create an array from the said array swapping first and last rows. "
   ]
  },
  {
   "cell_type": "code",
   "execution_count": 386,
   "id": "3a01855d",
   "metadata": {},
   "outputs": [
    {
     "name": "stdout",
     "output_type": "stream",
     "text": [
      "Q46: [[ 72.72727273   0.          84.64267677]\n",
      " [  0.         168.04227434 218.55160059]\n",
      " [  0.           0.           1.        ]]\n",
      "Q47: [[0.06202985 0.05664878 0.69462597 0.49489667 0.36663838 0.22370892\n",
      "  0.36709054 0.87059045 0.6170037  0.8505626  0.76924653 0.44096012\n",
      "  0.54245075 0.45453941 0.61741747 0.93458362 0.56670345 0.75597242\n",
      "  0.26577318 0.05994011 0.36255357 0.55645093 0.52821953 0.25702716\n",
      "  0.40992804 0.95837428 0.83073079 0.59573519 0.64789641 0.60529648\n",
      "  0.67608072 0.8976076  0.12070117 0.17870032 0.05645577 0.4217226\n",
      "  0.02943716 0.97179588 0.16491299 0.69630518]]\n",
      "Q48: [[198.92893178 200.44644785 199.5657921  198.02241024 202.52261206]\n",
      " [198.42124175 200.0787805  200.52773747 198.71075232 200.96759569]\n",
      " [198.14266559 199.89600008 200.64423223 198.11836072 202.08977407]\n",
      " [200.5919292  198.76982048 197.15813841 201.41350676 200.54422418]\n",
      " [202.99733084 195.6375834  198.66969558 200.40870243 197.35176891]\n",
      " [198.4201248  199.26259653 201.35722313 204.36525298 199.39094052]\n",
      " [198.59612776 203.51835533 201.24009031 199.91737621 201.70057943]\n",
      " [198.53471882 200.83490602 202.10129409 199.98201766 200.05257711]]\n",
      "Q49: [1 8 7 4 0 3 9 3 0 5]\n",
      "[6 2 5 9 8 3 0 4 7 1]\n",
      "[4 0 3 2 1 2 0 2 2 1]\n",
      "[2 3 0 1 4]\n",
      "Q50: [[0.27360645 0.00655064 0.43672691 0.00212435]\n",
      " [0.54971183 0.21901677 0.88007597 0.8914769 ]\n",
      " [0.04360346 0.4695217  0.08285133 0.20288297]\n",
      " [0.48743299 0.29668053 0.85356572 0.75800408]]\n",
      "[[0.48743299 0.29668053 0.85356572 0.75800408]\n",
      " [0.54971183 0.21901677 0.88007597 0.8914769 ]\n",
      " [0.04360346 0.4695217  0.08285133 0.20288297]\n",
      " [0.27360645 0.00655064 0.43672691 0.00212435]]\n"
     ]
    }
   ],
   "source": [
    "# 46\n",
    "a = np.ndarray((3,3))\n",
    "print(\"Q46: {}\".format(a))\n",
    "\n",
    "# 47\n",
    "gen = np.random.default_rng()\n",
    "a = gen.uniform(low=0, high=1, size=(1,40))\n",
    "print(\"Q47: {}\".format(a))\n",
    "\n",
    "# 48\n",
    "mu = 200\n",
    "sigma = np.cbrt(7)\n",
    "a = mu + sigma * gen.normal(size=(8,5))\n",
    "print(\"Q48: {}\".format(a))\n",
    "\n",
    "# 49\n",
    "a = np.random.choice(10,10)\n",
    "print(\"Q49: {}\".format(a))\n",
    "a = np.random.choice(10,10, replace=False)\n",
    "print(\"{}\".format(a))\n",
    "a = np.random.choice(5,10, p=[0.1,0.2,0.3,0.3,0.1])\n",
    "print(\"{}\".format(a))\n",
    "a = np.random.choice(5,5, p=[0.1,0.2,0.3,0.3,0.1], replace=False)\n",
    "print(\"{}\".format(a))\n",
    "\n",
    "# 50\n",
    "a = gen.random((4,4))\n",
    "b = np.array([*a[-1,:], *a[1,:], *a[2,:], *a[0,:]]).reshape(4,4)\n",
    "# nums = np.arange(16, dtype='int').reshape(-1, 4)\n",
    "# nums[[0,-1],:] = nums[[-1,0],:]\n",
    "\n",
    "print(\"Q50: {}\".format(a))\n",
    "print(\"{}\".format(b))"
   ]
  },
  {
   "cell_type": "markdown",
   "id": "d7f23777",
   "metadata": {},
   "source": [
    "51. Write a NumPy program to create a new array of given shape (5,6) and type, filled with zeros. \n",
    "\n",
    "52. Write a NumPy program to sort a given array by row and column in ascending order. \n",
    "\n",
    "53. Write a NumPy program to extract all numbers from a given array less and greater than a specified number. \n",
    "\n",
    "54. Write a NumPy program to replace all numbers in a given array equal, less and greater than a given number. \n",
    "\n",
    "55. Write a NumPy program to create an array of equal shape and data type for a given array. "
   ]
  },
  {
   "cell_type": "code",
   "execution_count": 429,
   "id": "30949f53",
   "metadata": {},
   "outputs": [
    {
     "name": "stdout",
     "output_type": "stream",
     "text": [
      "51: [[0. 0. 0. 0. 0. 0.]\n",
      " [0. 0. 0. 0. 0. 0.]\n",
      " [0. 0. 0. 0. 0. 0.]\n",
      " [0. 0. 0. 0. 0. 0.]\n",
      " [0. 0. 0. 0. 0. 0.]]\n",
      "52:\n",
      " [[3 2 1 4]\n",
      " [5 7 8 1]\n",
      " [2 0 3 4]]\n",
      "[[2 0 1 1]\n",
      " [3 2 3 4]\n",
      " [5 7 8 4]]\n",
      "[[0 1 1 2]\n",
      " [2 3 3 4]\n",
      " [4 5 7 8]]\n",
      "53. [[3 2 1 4]\n",
      " [5 7 8 1]\n",
      " [2 0 3 4]]\n",
      "[7 8]\n",
      "[3 2 1 4 5 1 2 0 3 4]\n",
      "54:\n",
      " target is: 5\n",
      "[ 0  1  2  3  4  5  6  7  8  9 10 11 12 13 14 15 16 17 18 19 20]\n",
      "> | [0 1 2 3 4 5 5 5 5 5 5 5 5 5 5 5 5 5 5 5 5]\n",
      "< | [ 5  5  5  5  5  5  6  7  8  9 10 11 12 13 14 15 16 17 18 19 20]\n",
      "55.\n",
      "[[3 3 2]\n",
      " [4 4 1]\n",
      " [3 1 3]]\n",
      "[[3 3 2]\n",
      " [4 4 1]\n",
      " [3 1 3]]\n"
     ]
    }
   ],
   "source": [
    "# 51\n",
    "a = np.zeros((5,6))\n",
    "print(\"51: {}\".format(a))\n",
    "\n",
    "# 52\n",
    "# a = np.random.randint(low=0, high=10, size=(3,3))\n",
    "a = np.array([3,2,1,4,5,7,8,1,2,0,3,4]).reshape((3,4))\n",
    "print(\"52:\\n {}\".format(a))\n",
    "a.sort(axis=0)\n",
    "print(\"{}\".format(a))\n",
    "a.sort(axis=1)\n",
    "print(\"{}\".format(a))\n",
    "\n",
    "# 53\n",
    "a = np.array([3,2,1,4,5,7,8,1,2,0,3,4]).reshape((3,4))\n",
    "b = np.array([], dtype=int)\n",
    "c = 5\n",
    "it = np.nditer(a, flags=['f_index'])\n",
    "print(\"53. {}\".format(a))\n",
    "# for x in it:\n",
    "#     if x != c and x not in b:\n",
    "#         b = np.insert(b,0,x)\n",
    "# print(\"> {}\".format(b))\n",
    "print(a[a > c])\n",
    "print(a[a <= c])\n",
    "# 54\n",
    "a = np.arange(0,21)\n",
    "target = 5\n",
    "print(\"54:\\n target is: {}\".format(target))\n",
    "print(a)\n",
    "# it = np.nditer(a, op_flags=['readwrite'], flags=['f_index'])\n",
    "# for x in it:\n",
    "#     if x > target:\n",
    "#         a[it.index] = target\n",
    "a = np.where(a > target, target, a)\n",
    "print(\"> | {}\".format(a))\n",
    "a = np.arange(0,21)\n",
    "# it = np.nditer(a, op_flags=['readwrite'], flags=['f_index'])\n",
    "# for x in it:\n",
    "#     if x < target:\n",
    "#         a[it.index] = target\n",
    "a = np.where(a <= target, target, a)\n",
    "\n",
    "print(\"< | {}\".format(a))\n",
    "\n",
    "# 55\n",
    "a = np.array([3,3,2,4,4,1,3,1,3]).reshape(3,3)\n",
    "b = a.copy()\n",
    "print(\"55.\")\n",
    "print(a)\n",
    "print(b)"
   ]
  },
  {
   "cell_type": "markdown",
   "id": "a0a2a6a7",
   "metadata": {},
   "source": [
    "56. Write a NumPy program to create a three-dimensional array with the shape (3,5,4) and set it to a variable. \n",
    "\n",
    "57. Write a NumPy program to create a 4x4 array. Create an array from said array by swapping first and last, second and third columns. \n",
    "\n",
    "58. Write a NumPy program to swap rows and columns of a given array in reverse order. \n",
    "\n",
    "59. Write a NumPy program to multiply two given arrays of the same size element-by-element."
   ]
  },
  {
   "cell_type": "code",
   "execution_count": 470,
   "id": "8e7c1e0e",
   "metadata": {},
   "outputs": [
    {
     "name": "stdout",
     "output_type": "stream",
     "text": [
      "[[[ 0  1  2  3  4]\n",
      "  [ 5  6  7  8  9]\n",
      "  [10 11 12 13 14]]\n",
      "\n",
      " [[15 16 17 18 19]\n",
      "  [20 21 22 23 24]\n",
      "  [25 26 27 28 29]]\n",
      "\n",
      " [[30 31 32 33 34]\n",
      "  [35 36 37 38 39]\n",
      "  [40 41 42 43 44]]\n",
      "\n",
      " [[45 46 47 48 49]\n",
      "  [50 51 52 53 54]\n",
      "  [55 56 57 58 59]]]\n",
      "57.\n",
      "[[ 1  2  3  4]\n",
      " [ 5  6  7  8]\n",
      " [ 9 10 11 12]\n",
      " [13 14 15 16]]\n",
      "[[ 4  3  2  1]\n",
      " [ 8  7  6  5]\n",
      " [12 11 10  9]\n",
      " [16 15 14 13]]\n",
      "58.\n",
      "[[ 1  2  3  4]\n",
      " [ 5  6  7  8]\n",
      " [ 9 10 11 12]\n",
      " [13 14 15 16]]\n",
      "[[16 15 14 13]\n",
      " [12 11 10  9]\n",
      " [ 8  7  6  5]\n",
      " [ 4  3  2  1]]\n",
      "59.\n",
      "[[1 2]\n",
      " [3 4]]\n",
      "[[10. 10.]\n",
      " [10. 10.]]\n",
      "[[10. 20.]\n",
      " [30. 40.]]\n"
     ]
    }
   ],
   "source": [
    "# 56\n",
    "a = np.arange(0,60).reshape(4,3,5)\n",
    "print(a)\n",
    "\n",
    "# 57\n",
    "a = np.arange(1,17).reshape(4,4)\n",
    "print(\"57.\")\n",
    "print(a)\n",
    "# b = a.copy()\n",
    "# b[:,:1] = a[:,-1:]\n",
    "# b[:,-1:] = a[:,:1]\n",
    "# b[:,1:2] = a[:,-2:-1]\n",
    "# b[:,-2:-1] = a[:,1:2]\n",
    "b = a[:,::-1]\n",
    "print(b)\n",
    "\n",
    "# 58\n",
    "print(\"58.\")\n",
    "a = np.arange(1,17).reshape(4,4)\n",
    "print(a)\n",
    "b = a[::-1,::-1]\n",
    "print(b)\n",
    "\n",
    "# 59\n",
    "print(\"59.\")\n",
    "a = np.arange(1,5).reshape((2,2))\n",
    "print(a)\n",
    "b = np.ones((2,2)) * 10\n",
    "print(b)\n",
    "c = a * b\n",
    "print(c)"
   ]
  }
 ],
 "metadata": {
  "kernelspec": {
   "display_name": "Python 3 (ipykernel)",
   "language": "python",
   "name": "python3"
  },
  "language_info": {
   "codemirror_mode": {
    "name": "ipython",
    "version": 3
   },
   "file_extension": ".py",
   "mimetype": "text/x-python",
   "name": "python",
   "nbconvert_exporter": "python",
   "pygments_lexer": "ipython3",
   "version": "3.10.10"
  }
 },
 "nbformat": 4,
 "nbformat_minor": 5
}
