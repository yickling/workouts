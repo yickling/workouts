{
 "cells": [
  {
   "cell_type": "markdown",
   "id": "7a5d9742",
   "metadata": {},
   "source": [
    "# Pandas DataFrames Workout\n",
    "\n",
    "https://www.w3resource.com/python-exercises/pandas/index-dataframe.php"
   ]
  },
  {
   "cell_type": "markdown",
   "id": "37701c84",
   "metadata": {},
   "source": [
    "1. Write a Pandas program to create a dataframe from a dictionary and display it.\n",
    "\n",
    "Sample data:\n",
    "```\n",
    "{'X':[78,85,96,80,86], 'Y':[84,94,89,83,86],'Z':[86,97,96,72,83]}\n",
    "```"
   ]
  },
  {
   "cell_type": "code",
   "execution_count": 1,
   "id": "41b75803",
   "metadata": {},
   "outputs": [
    {
     "name": "stdout",
     "output_type": "stream",
     "text": [
      "    X   Y   Z\n",
      "0  78  84  86\n",
      "1  85  94  97\n",
      "2  96  89  96\n",
      "3  80  83  72\n",
      "4  86  86  83\n"
     ]
    }
   ],
   "source": [
    "import pandas as pd\n",
    "import numpy as np\n",
    "\n",
    "a = pd.DataFrame({'X':[78,85,96,80,86], 'Y':[84,94,89,83,86],'Z':[86,97,96,72,83]})\n",
    "print(a)"
   ]
  },
  {
   "cell_type": "markdown",
   "id": "70ded57d",
   "metadata": {},
   "source": [
    "2. Write a Pandas program to create and display a DataFrame from a specified dictionary data which has the index labels.\n",
    "\n",
    "Sample Python dictionary data and list labels:\n",
    "\n",
    "```\n",
    "exam_data = {'name': ['Anastasia', 'Dima', 'Katherine', 'James', 'Emily', 'Michael', 'Matthew', 'Laura', 'Kevin', 'Jonas'],\n",
    "'score': [12.5, 9, 16.5, np.nan, 9, 20, 14.5, np.nan, 8, 19],\n",
    "'attempts': [1, 3, 2, 3, 2, 3, 1, 1, 2, 1],\n",
    "'qualify': ['yes', 'no', 'yes', 'no', 'no', 'yes', 'yes', 'no', 'no', 'yes']}\n",
    "labels = ['a', 'b', 'c', 'd', 'e', 'f', 'g', 'h', 'i', 'j']\n",
    "```\n"
   ]
  },
  {
   "cell_type": "code",
   "execution_count": 2,
   "id": "f81c64dd",
   "metadata": {},
   "outputs": [
    {
     "name": "stdout",
     "output_type": "stream",
     "text": [
      "        name  score  attempts qualify\n",
      "a  Anastasia   12.5         1     yes\n",
      "b       Dima    9.0         3      no\n",
      "c  Katherine   16.5         2     yes\n",
      "d      James    NaN         3      no\n",
      "e      Emily    9.0         2      no\n",
      "f    Michael   20.0         3     yes\n",
      "g    Matthew   14.5         1     yes\n",
      "h      Laura    NaN         1      no\n",
      "i      Kevin    8.0         2      no\n",
      "j      Jonas   19.0         1     yes\n"
     ]
    }
   ],
   "source": [
    "exam_data = {'name': ['Anastasia', 'Dima', 'Katherine', 'James', 'Emily', 'Michael', 'Matthew', 'Laura', 'Kevin', 'Jonas'],\n",
    "'score': [12.5, 9, 16.5, np.nan, 9, 20, 14.5, np.nan, 8, 19],\n",
    "'attempts': [1, 3, 2, 3, 2, 3, 1, 1, 2, 1],\n",
    "'qualify': ['yes', 'no', 'yes', 'no', 'no', 'yes', 'yes', 'no', 'no', 'yes']}\n",
    "labels = ['a', 'b', 'c', 'd', 'e', 'f', 'g', 'h', 'i', 'j']\n",
    "\n",
    "a = pd.DataFrame(data=exam_data, index=labels)\n",
    "print(a)"
   ]
  },
  {
   "cell_type": "markdown",
   "id": "ede0974e",
   "metadata": {},
   "source": [
    "3. Write a Pandas program to display a summary of the basic information about a specified DataFrame and its data.\n",
    "\n",
    "Sample Python dictionary data and list labels:\n",
    "\n",
    "```\n",
    "exam_data = {'name': ['Anastasia', 'Dima', 'Katherine', 'James', 'Emily', 'Michael', 'Matthew', 'Laura', 'Kevin', 'Jonas'],\n",
    "'score': [12.5, 9, 16.5, np.nan, 9, 20, 14.5, np.nan, 8, 19],\n",
    "'attempts': [1, 3, 2, 3, 2, 3, 1, 1, 2, 1],\n",
    "'qualify': ['yes', 'no', 'yes', 'no', 'no', 'yes', 'yes', 'no', 'no', 'yes']}\n",
    "labels = ['a', 'b', 'c', 'd', 'e', 'f', 'g', 'h', 'i', 'j']\n",
    "```"
   ]
  },
  {
   "cell_type": "code",
   "execution_count": 7,
   "id": "88e05cec",
   "metadata": {},
   "outputs": [
    {
     "name": "stdout",
     "output_type": "stream",
     "text": [
      "<class 'pandas.core.frame.DataFrame'>\n",
      "Index: 10 entries, a to j\n",
      "Data columns (total 4 columns):\n",
      " #   Column    Non-Null Count  Dtype  \n",
      "---  ------    --------------  -----  \n",
      " 0   name      10 non-null     object \n",
      " 1   score     8 non-null      float64\n",
      " 2   attempts  10 non-null     int64  \n",
      " 3   qualify   10 non-null     object \n",
      "dtypes: float64(1), int64(1), object(2)\n",
      "memory usage: 400.0+ bytes\n"
     ]
    }
   ],
   "source": [
    "a.info()"
   ]
  },
  {
   "cell_type": "markdown",
   "id": "64be4a72",
   "metadata": {},
   "source": [
    "4. Write a Pandas program to get the first 3 rows of a given DataFrame.\n",
    "\n",
    "Sample Python dictionary data and list labels:\n",
    "```\n",
    "exam_data = {'name': ['Anastasia', 'Dima', 'Katherine', 'James', 'Emily', 'Michael', 'Matthew', 'Laura', 'Kevin', 'Jonas'],\n",
    "'score': [12.5, 9, 16.5, np.nan, 9, 20, 14.5, np.nan, 8, 19],\n",
    "'attempts': [1, 3, 2, 3, 2, 3, 1, 1, 2, 1],\n",
    "'qualify': ['yes', 'no', 'yes', 'no', 'no', 'yes', 'yes', 'no', 'no', 'yes']}\n",
    "labels = ['a', 'b', 'c', 'd', 'e', 'f', 'g', 'h', 'i', 'j']\n",
    "```"
   ]
  },
  {
   "cell_type": "code",
   "execution_count": 11,
   "id": "02769b4e",
   "metadata": {},
   "outputs": [
    {
     "name": "stdout",
     "output_type": "stream",
     "text": [
      "        name  score  attempts qualify\n",
      "a  Anastasia   12.5         1     yes\n",
      "b       Dima    9.0         3      no\n",
      "c  Katherine   16.5         2     yes\n",
      "        name  score  attempts qualify\n",
      "a  Anastasia   12.5         1     yes\n",
      "b       Dima    9.0         3      no\n",
      "c  Katherine   16.5         2     yes\n"
     ]
    }
   ],
   "source": [
    "# print(a.head(3))\n",
    "print(a.iloc[:3])"
   ]
  },
  {
   "cell_type": "markdown",
   "id": "7bf7690b",
   "metadata": {},
   "source": [
    "5. Write a Pandas program to select the 'name' and 'score' columns from the following DataFrame."
   ]
  },
  {
   "cell_type": "code",
   "execution_count": 13,
   "id": "5248be75",
   "metadata": {},
   "outputs": [
    {
     "name": "stdout",
     "output_type": "stream",
     "text": [
      "        name  score\n",
      "a  Anastasia   12.5\n",
      "b       Dima    9.0\n",
      "c  Katherine   16.5\n",
      "d      James    NaN\n",
      "e      Emily    9.0\n",
      "f    Michael   20.0\n",
      "g    Matthew   14.5\n",
      "h      Laura    NaN\n",
      "i      Kevin    8.0\n",
      "j      Jonas   19.0\n"
     ]
    }
   ],
   "source": [
    "# b = pd.DataFrame(data=a, columns=['name', 'score'])\n",
    "b = a[['name', 'score']]\n",
    "print(b)"
   ]
  },
  {
   "cell_type": "markdown",
   "id": "61460e06",
   "metadata": {},
   "source": [
    "6. Write a Pandas program to select the specified columns and rows from a given data frame.\n",
    "7. Write a Pandas program to select the rows where the number of attempts in the examination is greater than 2.\n",
    "8. Write a Pandas program to count the number of rows and columns of a DataFrame.\n",
    "9. Write a Pandas program to select the rows where the score is missing, i.e. is NaN.\n",
    "10. Write a Pandas program to select the rows the score is between 15 and 20 (inclusive)."
   ]
  },
  {
   "cell_type": "code",
   "execution_count": 30,
   "id": "6c687b9b",
   "metadata": {},
   "outputs": [
    {
     "name": "stdout",
     "output_type": "stream",
     "text": [
      "   score qualify\n",
      "b    9.0      no\n",
      "d    NaN      no\n",
      "f   20.0     yes\n",
      "      name  score  attempts qualify\n",
      "b     Dima    9.0         3      no\n",
      "d    James    NaN         3      no\n",
      "f  Michael   20.0         3     yes\n",
      "rows: 10\n",
      "columns: 4\n",
      "    name  score  attempts qualify\n",
      "d  James    NaN         3      no\n",
      "h  Laura    NaN         1      no\n",
      "        name  score  attempts qualify\n",
      "c  Katherine   16.5         2     yes\n",
      "f    Michael   20.0         3     yes\n",
      "j      Jonas   19.0         1     yes\n"
     ]
    }
   ],
   "source": [
    "# 6\n",
    "b = a.iloc[[1,3,5,6],[1, 3]].iloc[:3]\n",
    "print(b)\n",
    "\n",
    "# 7\n",
    "b = a[a['attempts'] > 2]\n",
    "print(b)\n",
    "\n",
    "# 8\n",
    "print(\"rows: {}\".format(len(a.axes[0])))\n",
    "print(\"columns: {}\".format(len(a.axes[1])))\n",
    "\n",
    "# 9\n",
    "b = a[a['score'].isnull()]\n",
    "print(b)\n",
    "\n",
    "# 10\n",
    "b = a[a['score'].between(15,20)]\n",
    "print(b)\n"
   ]
  },
  {
   "cell_type": "markdown",
   "id": "de007daa",
   "metadata": {},
   "source": [
    "11. Write a Pandas program to select the rows where number of attempts in the examination is less than 2 and score greater than 15.\n",
    "12. Write a Pandas program to change the score in row 'd' to 11.5.\n",
    "13. Write a Pandas program to calculate the sum of the examination attempts by the students.\n",
    "14. Write a Pandas program to calculate the mean of all students' scores. Data is stored in a dataframe.\n",
    "15. Write a Pandas program to append a new row 'k' to data frame with given values for each column. Now delete the new row and return the original DataFrame. Values for each column will be: \n",
    "```\n",
    "{ name : \"Suresh\", score: 15.5, attempts: 1, qualify: \"yes\", label: \"k\" }\n",
    "```"
   ]
  },
  {
   "cell_type": "code",
   "execution_count": 34,
   "id": "470ee436",
   "metadata": {},
   "outputs": [
    {
     "name": "stdout",
     "output_type": "stream",
     "text": [
      "    name  score  attempts qualify\n",
      "j  Jonas   19.0         1     yes\n",
      "        name  score  attempts qualify\n",
      "a  Anastasia   12.5         1     yes\n",
      "b       Dima    9.0         3      no\n",
      "c  Katherine   16.5         2     yes\n",
      "d      James   11.5         3      no\n",
      "e      Emily    9.0         2      no\n",
      "f    Michael   20.0         3     yes\n",
      "g    Matthew   14.5         1     yes\n",
      "h      Laura    NaN         1      no\n",
      "i      Kevin    8.0         2      no\n",
      "j      Jonas   19.0         1     yes\n",
      "19\n",
      "13.5625\n",
      "        name  score  attempts qualify\n",
      "a  Anastasia   12.5         1     yes\n",
      "b       Dima    9.0         3      no\n",
      "c  Katherine   16.5         2     yes\n",
      "d      James    NaN         3      no\n",
      "e      Emily    9.0         2      no\n",
      "f    Michael   20.0         3     yes\n",
      "g    Matthew   14.5         1     yes\n",
      "h      Laura    NaN         1      no\n",
      "i      Kevin    8.0         2      no\n",
      "j      Jonas   19.0         1     yes\n",
      "k     Suresh   15.5         1     yes\n",
      "        name  score  attempts qualify\n",
      "a  Anastasia   12.5         1     yes\n",
      "b       Dima    9.0         3      no\n",
      "c  Katherine   16.5         2     yes\n",
      "d      James    NaN         3      no\n",
      "e      Emily    9.0         2      no\n",
      "f    Michael   20.0         3     yes\n",
      "g    Matthew   14.5         1     yes\n",
      "h      Laura    NaN         1      no\n",
      "i      Kevin    8.0         2      no\n",
      "j      Jonas   19.0         1     yes\n"
     ]
    }
   ],
   "source": [
    "# 11\n",
    "# b = a[a['attempts'] < 2]\n",
    "# c = b[b['score'] > 15]\n",
    "c = a[(a['attempts'] < 2) & (a['score'] > 15)]\n",
    "print(c)\n",
    "\n",
    "# 12\n",
    "b = a.copy()\n",
    "# b.at['d', 'score'] = 11.5\n",
    "b.loc['d', 'score'] = 11.5\n",
    "print(b)\n",
    "\n",
    "# 13\n",
    "c = a['attempts'].sum()\n",
    "print(c)\n",
    "\n",
    "# 14\n",
    "d = a['score'].mean()\n",
    "print(d)\n",
    "\n",
    "# 15\n",
    "b = a.copy()\n",
    "# row = { 'name' : \"Suresh\", 'score': 15.5, 'attempts': 1, 'qualify': \"yes\"}\n",
    "# b = pd.concat([a, pd.DataFrame([row], index=['k'])])\n",
    "\n",
    "b.loc['k'] = ['Suresh', 15.5, 1, 'yes',]\n",
    "print(b)\n",
    "\n",
    "b = b.drop('k')\n",
    "print(b)\n"
   ]
  },
  {
   "cell_type": "markdown",
   "id": "8d13950b",
   "metadata": {},
   "source": [
    "16. Write a Pandas program to sort the DataFrame first by 'name' in descending order, then by 'score' in ascending order.\n",
    "17. Write a Pandas program to replace the 'qualify' column contains the values 'yes' and 'no' with True and False.\n",
    "18. Write a Pandas program to change the name 'James' to 'Suresh' in name column of the DataFrame. \n",
    "19. Write a Pandas program to delete the 'attempts' column from the DataFrame.\n",
    "20. Write a Pandas program to insert a new column in existing DataFrame. "
   ]
  },
  {
   "cell_type": "code",
   "execution_count": 30,
   "id": "81ae0520",
   "metadata": {},
   "outputs": [
    {
     "name": "stdout",
     "output_type": "stream",
     "text": [
      "#16:\n",
      "        name  score  attempts qualify\n",
      "f    Michael   20.0         3     yes\n",
      "g    Matthew   14.5         1     yes\n",
      "h      Laura    NaN         1      no\n",
      "i      Kevin    8.0         2      no\n",
      "c  Katherine   16.5         2     yes\n",
      "j      Jonas   19.0         1     yes\n",
      "d      James    NaN         3      no\n",
      "e      Emily    9.0         2      no\n",
      "b       Dima    9.0         3      no\n",
      "a  Anastasia   12.5         1     yes\n",
      "#17:\n",
      "        name  score  attempts  qualify\n",
      "a  Anastasia   12.5         1     True\n",
      "b       Dima    9.0         3    False\n",
      "c  Katherine   16.5         2     True\n",
      "d      James    NaN         3    False\n",
      "e      Emily    9.0         2    False\n",
      "f    Michael   20.0         3     True\n",
      "g    Matthew   14.5         1     True\n",
      "h      Laura    NaN         1    False\n",
      "i      Kevin    8.0         2    False\n",
      "j      Jonas   19.0         1     True\n",
      "#18:\n",
      "        name  score  attempts qualify\n",
      "a  Anastasia   12.5         1     yes\n",
      "b       Dima    9.0         3      no\n",
      "c  Katherine   16.5         2     yes\n",
      "d     Suresh    NaN         3      no\n",
      "e      Emily    9.0         2      no\n",
      "f    Michael   20.0         3     yes\n",
      "g    Matthew   14.5         1     yes\n",
      "h      Laura    NaN         1      no\n",
      "i      Kevin    8.0         2      no\n",
      "j      Jonas   19.0         1     yes\n",
      "#19:\n",
      "        name  score qualify\n",
      "a  Anastasia   12.5     yes\n",
      "b       Dima    9.0      no\n",
      "c  Katherine   16.5     yes\n",
      "d      James    NaN      no\n",
      "e      Emily    9.0      no\n",
      "f    Michael   20.0     yes\n",
      "g    Matthew   14.5     yes\n",
      "h      Laura    NaN      no\n",
      "i      Kevin    8.0      no\n",
      "j      Jonas   19.0     yes\n",
      "#20:\n",
      "        name  score  attempts qualify   color\n",
      "a  Anastasia   12.5         1     yes     Red\n",
      "b       Dima    9.0         3      no    Blue\n",
      "c  Katherine   16.5         2     yes  Orange\n",
      "d      James    NaN         3      no     Red\n",
      "e      Emily    9.0         2      no   White\n",
      "f    Michael   20.0         3     yes   White\n",
      "g    Matthew   14.5         1     yes    Blue\n",
      "h      Laura    NaN         1      no   Green\n",
      "i      Kevin    8.0         2      no   Green\n",
      "j      Jonas   19.0         1     yes     Red\n"
     ]
    }
   ],
   "source": [
    "#16\n",
    "b = a.copy()\n",
    "b = b.sort_values(by=['name', 'score'], ascending=[False, True])\n",
    "print(\"#16:\")\n",
    "print(b)\n",
    "\n",
    "#17\n",
    "b = a.copy()\n",
    "# b = b.replace('yes', True)\n",
    "# b = b.replace('no', False)\n",
    "b['qualify'] = b['qualify'].map({'yes': True, 'no': False})\n",
    "print(\"#17:\")\n",
    "print(b)\n",
    "\n",
    "#18\n",
    "b = a.copy()\n",
    "b['name'] = b['name'].replace('James', 'Suresh')\n",
    "print(\"#18:\")\n",
    "print(b)\n",
    "\n",
    "#19\n",
    "b = a.copy()\n",
    "# b = b.drop(['attempts'], axis=1)\n",
    "b.pop('attempts')\n",
    "print(\"#19:\")\n",
    "print(b)\n",
    "\n",
    "#20\n",
    "color = ['Red','Blue','Orange','Red','White','White','Blue','Green','Green','Red']\n",
    "b = a.copy()\n",
    "b['color'] = color\n",
    "print(\"#20:\")\n",
    "print(b)"
   ]
  },
  {
   "cell_type": "markdown",
   "id": "a5733937",
   "metadata": {},
   "source": [
    "21. Write a Pandas program to iterate over rows in a DataFrame.\n",
    "\n",
    "Sample Python dictionary data and list labels:\n",
    "```\n",
    "exam_data = [{'name':'Anastasia', 'score':12.5}, {'name':'Dima','score':9}, {'name':'Katherine','score':16.5}]\n",
    "```"
   ]
  },
  {
   "cell_type": "code",
   "execution_count": null,
   "id": "43ce142d",
   "metadata": {},
   "outputs": [],
   "source": []
  },
  {
   "cell_type": "markdown",
   "id": "ee513230",
   "metadata": {},
   "source": [
    "22. Write a Pandas program to get list from DataFrame column headers.\n",
    "23. Write a Pandas program to rename columns of a given DataFrame \n",
    "24. Write a Pandas program to select rows from a given DataFrame based on values in some columns.\n",
    "25. Write a Pandas program to change the order of a DataFrame columns."
   ]
  },
  {
   "cell_type": "code",
   "execution_count": null,
   "id": "4dfef3a9",
   "metadata": {},
   "outputs": [],
   "source": []
  },
  {
   "cell_type": "markdown",
   "id": "aa2e8060",
   "metadata": {},
   "source": [
    "26. Write a Pandas program to add one row in an existing DataFrame.\n",
    "27. Write a Pandas program to write a DataFrame to CSV file using tab separator.\n",
    "28. Write a Pandas program to count city wise number of people from a given of data set (city, name of the person).\n",
    "29. Write a Pandas program to delete DataFrame row(s) based on given column value.\n",
    "30. Write a Pandas program to widen output display to see more columns."
   ]
  },
  {
   "cell_type": "code",
   "execution_count": null,
   "id": "d7560be5",
   "metadata": {},
   "outputs": [],
   "source": [
    "# 26\n",
    "d = {'col1': [1, 4, 3, 4, 5], 'col2': [4, 5, 6, 7, 8], 'col3': [7, 8, 9, 0, 1]}\n",
    "df2 = {'col1': 10, 'col2': 11, 'col3': 12}\n",
    "\n",
    "# 27\n",
    "d = {'col1': [1, 4, 3, 4, 5], 'col2': [4, 5, 6, 7, 8], 'col3': [7, 8, 9, 0, 1]}\n",
    "\n",
    "# 28\n",
    "df1 = pd.DataFrame({'name': ['Anastasia', 'Dima', 'Katherine', 'James', 'Emily', 'Michael', 'Matthew', 'Laura', 'Kevin', 'Jonas'],\n",
    "'city': ['California', 'Los Angeles', 'California', 'California', 'California', 'Los Angeles', 'Los Angeles', 'Georgia', 'Georgia', 'Los Angeles']})\n",
    "\n",
    "# 29\n",
    "d = {'col1': [1, 4, 3, 4, 5], 'col2': [4, 5, 6, 7, 8], 'col3': [7, 8, 9, 0, 1]}\n",
    "\n",
    "# 30\n",
    "d = {'col1': [1, 4, 3, 4, 5], 'col2': [4, 5, 6, 7, 8], 'col3': [7, 8, 9, 0, 1]}"
   ]
  },
  {
   "cell_type": "markdown",
   "id": "e4374de8",
   "metadata": {},
   "source": [
    "31. Write a Pandas program to select a row of series/dataframe by given integer index. (i=2)\n",
    "32. Write a Pandas program to replace all the NaN values with Zero's in a column of a dataframe.\n",
    "33. Write a Pandas program to convert index in a column of the given dataframe.\n",
    "34. Write a Pandas program to set a given value for particular cell in DataFrame using index value. (Set Kevin to 10.2)\n",
    "35. Write a Pandas program to count the NaN values in one or more columns in DataFrame."
   ]
  },
  {
   "cell_type": "code",
   "execution_count": null,
   "id": "4fdeb903",
   "metadata": {},
   "outputs": [],
   "source": [
    "# 31\n",
    "d = {'col1': [1, 4, 3, 4, 5], 'col2': [4, 5, 6, 7, 8], 'col3': [7, 8, 9, 0, 1]}\n",
    "\n",
    "# 32\n",
    "# use a\n",
    "\n",
    "# 33\n",
    "# use a\n",
    "\n",
    "# 34\n",
    "# use a\n",
    "\n",
    "# 35\n",
    "# use a"
   ]
  }
 ],
 "metadata": {
  "kernelspec": {
   "display_name": "Python 3 (ipykernel)",
   "language": "python",
   "name": "python3"
  },
  "language_info": {
   "codemirror_mode": {
    "name": "ipython",
    "version": 3
   },
   "file_extension": ".py",
   "mimetype": "text/x-python",
   "name": "python",
   "nbconvert_exporter": "python",
   "pygments_lexer": "ipython3",
   "version": "3.10.10"
  }
 },
 "nbformat": 4,
 "nbformat_minor": 5
}
